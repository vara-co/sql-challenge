{
 "cells": [
  {
   "cell_type": "markdown",
   "id": "744b7966",
   "metadata": {},
   "source": [
    "## EmployeeSQL Data Analysis"
   ]
  },
  {
   "cell_type": "markdown",
   "id": "35f3f25a",
   "metadata": {},
   "source": [
    "### 1. List the employee number, last name, first name, sex, and salary of each employee"
   ]
  },
  {
   "cell_type": "code",
   "execution_count": 1,
   "id": "04a8368a",
   "metadata": {},
   "outputs": [],
   "source": [
    "# List for each employee\n",
    "# Employee number  - Last Name - First Name - Sex - Salary \n"
   ]
  },
  {
   "cell_type": "markdown",
   "id": "b67a649f",
   "metadata": {},
   "source": [
    "### 2. List the first name, last name, and hire date for the employees who were hired in 1986"
   ]
  },
  {
   "cell_type": "code",
   "execution_count": 2,
   "id": "316a2b91",
   "metadata": {},
   "outputs": [],
   "source": [
    "# Employees who were hired in 1986\n",
    "# First Name - Last Name - Hire Date for the Employees who were hired in 1986\n"
   ]
  },
  {
   "cell_type": "markdown",
   "id": "6ce39706",
   "metadata": {},
   "source": [
    "### 3. List the manager of each department along with their department number, department name, employee number, last name, and first name"
   ]
  },
  {
   "cell_type": "code",
   "execution_count": 3,
   "id": "fd5f5e1f",
   "metadata": {},
   "outputs": [],
   "source": [
    "# List of managers of each department\n",
    "# Department Number - Department Name - Employee Number - Last Name - First Name\n"
   ]
  },
  {
   "cell_type": "markdown",
   "id": "511e4dde-26df-4bd2-80d7-4ee6971efdb9",
   "metadata": {},
   "source": [
    "### 4. List the department number for each employee along with that employee’s employee number, last name, first name, and department name."
   ]
  },
  {
   "cell_type": "code",
   "execution_count": 4,
   "id": "4b8a26a5-7db0-4429-9d3d-a224c21477a8",
   "metadata": {},
   "outputs": [],
   "source": [
    "# List department number for each employee\n",
    "# Employee Number  - Last Name - First Name - Department Name\n"
   ]
  },
  {
   "cell_type": "markdown",
   "id": "b096f148-462d-4b9a-8494-bd2252b14bc7",
   "metadata": {},
   "source": [
    "### 5. List first name, last name, and sex of each employee whose first name is Hercules and whose last name begins with the letter B."
   ]
  },
  {
   "cell_type": "code",
   "execution_count": 5,
   "id": "07c6280d-3876-4ae0-98f0-dcaad479f9ca",
   "metadata": {},
   "outputs": [],
   "source": [
    "# First Name Hercules and Last name begins with the letter B\n",
    "# First Name - Last Name - Sex\n"
   ]
  },
  {
   "cell_type": "markdown",
   "id": "e4881737-2a10-4ce1-a01e-48f764e22169",
   "metadata": {},
   "source": [
    "### 6. List each employee in the Sales department, including their employee number, last name, and first name."
   ]
  },
  {
   "cell_type": "code",
   "execution_count": 6,
   "id": "c6affc8a-fbf6-419c-b8c6-68cfa2a07852",
   "metadata": {},
   "outputs": [],
   "source": [
    "# Employees in the Sales Department\n",
    "# Employee Number  -  Last Name  - First Name\n"
   ]
  },
  {
   "cell_type": "markdown",
   "id": "86622ac3-6ed3-4334-b744-5904192436c6",
   "metadata": {},
   "source": [
    "### 7. List each employee in the Sales and Development departments, including their employee number, last name, first name, and department name."
   ]
  },
  {
   "cell_type": "code",
   "execution_count": 7,
   "id": "eb705e7f-dd39-459d-8fa7-feeb9ca40356",
   "metadata": {},
   "outputs": [],
   "source": [
    "# Employees in the Sales and Development departments\n",
    "# Employee Number - Last Name - First Name - Department Name\n"
   ]
  },
  {
   "cell_type": "markdown",
   "id": "69dd8356-1a35-49aa-b4f1-9fb0e9b6d888",
   "metadata": {},
   "source": [
    "### 8. List the frequency counts, in descending order, of all the employee last names (that is, how many employees share each last name)."
   ]
  },
  {
   "cell_type": "code",
   "execution_count": 8,
   "id": "d567613a-7599-49ad-93d2-49d026371165",
   "metadata": {},
   "outputs": [],
   "source": [
    "# Frequency counts in Descending order of all employee last names (how many employees share each last name) \n"
   ]
  }
 ],
 "metadata": {
  "kernelspec": {
   "display_name": "Python 3 (ipykernel)",
   "language": "python",
   "name": "python3"
  },
  "language_info": {
   "codemirror_mode": {
    "name": "ipython",
    "version": 3
   },
   "file_extension": ".py",
   "mimetype": "text/x-python",
   "name": "python",
   "nbconvert_exporter": "python",
   "pygments_lexer": "ipython3",
   "version": "3.11.7"
  }
 },
 "nbformat": 4,
 "nbformat_minor": 5
}
